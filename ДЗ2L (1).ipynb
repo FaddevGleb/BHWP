{
 "cells": [
  {
   "cell_type": "code",
   "execution_count": 10,
   "metadata": {},
   "outputs": [
    {
     "name": "stdout",
     "output_type": "stream",
     "text": [
      "Башня— инженерное сооружение, отличающееся значительным преобладанием высоты над стороной или диаметром основания. Башни могут быть отдельно стоящими или соединнными с другим зданием или стеной. Ствол башни может быть сплошным у каменных и железобетонных конструкций или сквозным, а в сечении круглым, квадратным, многоугольным, встречаются также сечения других форм.\n"
     ]
    }
   ],
   "source": [
    "import requests\n",
    "from bs4 import BeautifulSoup\n",
    "s = '?/.,\\-`—ЙЦУКЕНГШЩЗХЪФЫВАПРОЛДЖЭЯЧСМИТЬБЮйцукенгшщзхъфывапролджэячсмитьбю '\n",
    "url = \"https://ru.wikipedia.org/wiki/%D0%91%D0%B0%D1%88%D0%BD%D1%8F\"\n",
    "if requests.get(url).status_code == 200:\n",
    "    souped = BeautifulSoup(requests.get(url).text, \"html.parser\")\n",
    "    soupedText = souped.text\n",
    "    soupedArray = [[j for j in i.split(' ')] for i in soupedText.split('\\n') if i != '']\n",
    "    #print(soupedArray)\n",
    "    for i in soupedArray:\n",
    "        if len(i) > 2:\n",
    "            if i[0] == 'Ба́шня\\xa0—':\n",
    "                print(''.join([i for i in \" \".join(i) if i in s]))\n",
    "    #print(soupedArray)\n"
   ]
  }
 ],
 "metadata": {
  "kernelspec": {
   "display_name": "Python 3",
   "language": "python",
   "name": "python3"
  },
  "language_info": {
   "codemirror_mode": {
    "name": "ipython",
    "version": 3
   },
   "file_extension": ".py",
   "mimetype": "text/x-python",
   "name": "python",
   "nbconvert_exporter": "python",
   "pygments_lexer": "ipython3",
   "version": "3.9.4"
  }
 },
 "nbformat": 4,
 "nbformat_minor": 2
}
